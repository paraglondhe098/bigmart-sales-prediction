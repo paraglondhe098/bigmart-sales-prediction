{
 "cells": [
  {
   "cell_type": "code",
   "execution_count": 1,
   "metadata": {
    "collapsed": true
   },
   "outputs": [],
   "source": [
    "import pandas as pd\n",
    "import numpy as np\n",
    "import seaborn as sns\n",
    "import matplotlib.pyplot as plt\n",
    "import warnings"
   ]
  },
  {
   "cell_type": "code",
   "execution_count": 2,
   "outputs": [],
   "source": [
    "%matplotlib inline\n",
    "# warnings.filterwarnings('ignore')\n",
    "sns.set()"
   ],
   "metadata": {
    "collapsed": false
   }
  },
  {
   "cell_type": "code",
   "execution_count": 3,
   "outputs": [
    {
     "data": {
      "text/plain": "   Item_Weight Item_Fat_Content  Item_Visibility              Item_Type  \\\n0         9.30          Low Fat         0.016047                  Dairy   \n1         5.92          Regular         0.019278            Soft Drinks   \n2        17.50          Low Fat         0.016760                   Meat   \n3        19.20          Regular         0.000000  Fruits and Vegetables   \n4         8.93       Non-Edible         0.000000              Household   \n\n   Item_MRP  Outlet_Establishment_Year Outlet_Size Outlet_Location_Type  \\\n0  249.8092                       1999      Medium               Tier 1   \n1   48.2692                       2009      Medium               Tier 3   \n2  141.6180                       1999      Medium               Tier 1   \n3  182.0950                       1998         NaN               Tier 3   \n4   53.8614                       1987        High               Tier 3   \n\n         Outlet_Type  Item_Outlet_Sales New_Item_Type  Outlet_Age  \n0  Supermarket Type1          3735.1380            FD          14  \n1  Supermarket Type2           443.4228            DR           4  \n2  Supermarket Type1          2097.2700            FD          14  \n3      Grocery Store           732.3800            FD          15  \n4  Supermarket Type1           994.7052            NC          26  ",
      "text/html": "<div>\n<style scoped>\n    .dataframe tbody tr th:only-of-type {\n        vertical-align: middle;\n    }\n\n    .dataframe tbody tr th {\n        vertical-align: top;\n    }\n\n    .dataframe thead th {\n        text-align: right;\n    }\n</style>\n<table border=\"1\" class=\"dataframe\">\n  <thead>\n    <tr style=\"text-align: right;\">\n      <th></th>\n      <th>Item_Weight</th>\n      <th>Item_Fat_Content</th>\n      <th>Item_Visibility</th>\n      <th>Item_Type</th>\n      <th>Item_MRP</th>\n      <th>Outlet_Establishment_Year</th>\n      <th>Outlet_Size</th>\n      <th>Outlet_Location_Type</th>\n      <th>Outlet_Type</th>\n      <th>Item_Outlet_Sales</th>\n      <th>New_Item_Type</th>\n      <th>Outlet_Age</th>\n    </tr>\n  </thead>\n  <tbody>\n    <tr>\n      <th>0</th>\n      <td>9.30</td>\n      <td>Low Fat</td>\n      <td>0.016047</td>\n      <td>Dairy</td>\n      <td>249.8092</td>\n      <td>1999</td>\n      <td>Medium</td>\n      <td>Tier 1</td>\n      <td>Supermarket Type1</td>\n      <td>3735.1380</td>\n      <td>FD</td>\n      <td>14</td>\n    </tr>\n    <tr>\n      <th>1</th>\n      <td>5.92</td>\n      <td>Regular</td>\n      <td>0.019278</td>\n      <td>Soft Drinks</td>\n      <td>48.2692</td>\n      <td>2009</td>\n      <td>Medium</td>\n      <td>Tier 3</td>\n      <td>Supermarket Type2</td>\n      <td>443.4228</td>\n      <td>DR</td>\n      <td>4</td>\n    </tr>\n    <tr>\n      <th>2</th>\n      <td>17.50</td>\n      <td>Low Fat</td>\n      <td>0.016760</td>\n      <td>Meat</td>\n      <td>141.6180</td>\n      <td>1999</td>\n      <td>Medium</td>\n      <td>Tier 1</td>\n      <td>Supermarket Type1</td>\n      <td>2097.2700</td>\n      <td>FD</td>\n      <td>14</td>\n    </tr>\n    <tr>\n      <th>3</th>\n      <td>19.20</td>\n      <td>Regular</td>\n      <td>0.000000</td>\n      <td>Fruits and Vegetables</td>\n      <td>182.0950</td>\n      <td>1998</td>\n      <td>NaN</td>\n      <td>Tier 3</td>\n      <td>Grocery Store</td>\n      <td>732.3800</td>\n      <td>FD</td>\n      <td>15</td>\n    </tr>\n    <tr>\n      <th>4</th>\n      <td>8.93</td>\n      <td>Non-Edible</td>\n      <td>0.000000</td>\n      <td>Household</td>\n      <td>53.8614</td>\n      <td>1987</td>\n      <td>High</td>\n      <td>Tier 3</td>\n      <td>Supermarket Type1</td>\n      <td>994.7052</td>\n      <td>NC</td>\n      <td>26</td>\n    </tr>\n  </tbody>\n</table>\n</div>"
     },
     "execution_count": 3,
     "metadata": {},
     "output_type": "execute_result"
    }
   ],
   "source": [
    "df = pd.read_csv('new_df.csv').drop(columns=['Unnamed: 0'])\n",
    "df.head()"
   ],
   "metadata": {
    "collapsed": false
   }
  },
  {
   "cell_type": "code",
   "execution_count": 4,
   "outputs": [
    {
     "data": {
      "text/plain": "Index(['Item_Weight', 'Item_Fat_Content', 'Item_Visibility', 'Item_Type',\n       'Item_MRP', 'Outlet_Establishment_Year', 'Outlet_Size',\n       'Outlet_Location_Type', 'Outlet_Type', 'Item_Outlet_Sales',\n       'New_Item_Type', 'Outlet_Age'],\n      dtype='object')"
     },
     "execution_count": 4,
     "metadata": {},
     "output_type": "execute_result"
    }
   ],
   "source": [
    "df.columns"
   ],
   "metadata": {
    "collapsed": false
   }
  },
  {
   "cell_type": "code",
   "execution_count": 5,
   "outputs": [],
   "source": [
    "X, y = df.drop(columns=['Item_Outlet_Sales', 'Item_Type', 'Outlet_Establishment_Year']), df['Item_Outlet_Sales']"
   ],
   "metadata": {
    "collapsed": false
   }
  },
  {
   "cell_type": "code",
   "execution_count": 56,
   "outputs": [],
   "source": [
    "# X.to_csv(path_or_buf= \"data/features.csv\")\n",
    "# y.to_csv(path_or_buf=\"data/targets.csv\")"
   ],
   "metadata": {
    "collapsed": false,
    "ExecuteTime": {
     "end_time": "2024-11-27T15:17:39.363688400Z",
     "start_time": "2024-11-27T15:17:39.337213900Z"
    }
   }
  },
  {
   "cell_type": "code",
   "execution_count": 6,
   "outputs": [],
   "source": [
    "from sklearn.model_selection import train_test_split"
   ],
   "metadata": {
    "collapsed": false
   }
  },
  {
   "cell_type": "code",
   "execution_count": 7,
   "outputs": [],
   "source": [
    "from sklearn.impute import KNNImputer, SimpleImputer\n",
    "from sklearn.preprocessing import OrdinalEncoder, OneHotEncoder\n",
    "from utils.custom_transformers import CustomTransformer"
   ],
   "metadata": {
    "collapsed": false,
    "ExecuteTime": {
     "end_time": "2024-11-27T14:59:09.924287100Z",
     "start_time": "2024-11-27T14:59:09.723025200Z"
    }
   }
  },
  {
   "cell_type": "code",
   "execution_count": 9,
   "outputs": [
    {
     "data": {
      "text/plain": "Index(['Item_Weight', 'Item_Fat_Content', 'Item_Visibility', 'Item_MRP',\n       'Outlet_Size', 'Outlet_Location_Type', 'Outlet_Type', 'New_Item_Type',\n       'Outlet_Age'],\n      dtype='object')"
     },
     "execution_count": 9,
     "metadata": {},
     "output_type": "execute_result"
    }
   ],
   "source": [
    "X.columns"
   ],
   "metadata": {
    "collapsed": false,
    "ExecuteTime": {
     "end_time": "2024-11-27T14:59:14.000651500Z",
     "start_time": "2024-11-27T14:59:13.984016400Z"
    }
   }
  },
  {
   "cell_type": "code",
   "execution_count": 10,
   "outputs": [
    {
     "data": {
      "text/plain": "   Item_Weight Item_Fat_Content  Item_Visibility  Item_MRP Outlet_Size  \\\n0         9.30          Low Fat         0.016047  249.8092      Medium   \n1         5.92          Regular         0.019278   48.2692      Medium   \n2        17.50          Low Fat         0.016760  141.6180      Medium   \n3        19.20          Regular         0.000000  182.0950         NaN   \n4         8.93       Non-Edible         0.000000   53.8614        High   \n\n  Outlet_Location_Type        Outlet_Type New_Item_Type  Outlet_Age  \n0               Tier 1  Supermarket Type1            FD          14  \n1               Tier 3  Supermarket Type2            DR           4  \n2               Tier 1  Supermarket Type1            FD          14  \n3               Tier 3      Grocery Store            FD          15  \n4               Tier 3  Supermarket Type1            NC          26  ",
      "text/html": "<div>\n<style scoped>\n    .dataframe tbody tr th:only-of-type {\n        vertical-align: middle;\n    }\n\n    .dataframe tbody tr th {\n        vertical-align: top;\n    }\n\n    .dataframe thead th {\n        text-align: right;\n    }\n</style>\n<table border=\"1\" class=\"dataframe\">\n  <thead>\n    <tr style=\"text-align: right;\">\n      <th></th>\n      <th>Item_Weight</th>\n      <th>Item_Fat_Content</th>\n      <th>Item_Visibility</th>\n      <th>Item_MRP</th>\n      <th>Outlet_Size</th>\n      <th>Outlet_Location_Type</th>\n      <th>Outlet_Type</th>\n      <th>New_Item_Type</th>\n      <th>Outlet_Age</th>\n    </tr>\n  </thead>\n  <tbody>\n    <tr>\n      <th>0</th>\n      <td>9.30</td>\n      <td>Low Fat</td>\n      <td>0.016047</td>\n      <td>249.8092</td>\n      <td>Medium</td>\n      <td>Tier 1</td>\n      <td>Supermarket Type1</td>\n      <td>FD</td>\n      <td>14</td>\n    </tr>\n    <tr>\n      <th>1</th>\n      <td>5.92</td>\n      <td>Regular</td>\n      <td>0.019278</td>\n      <td>48.2692</td>\n      <td>Medium</td>\n      <td>Tier 3</td>\n      <td>Supermarket Type2</td>\n      <td>DR</td>\n      <td>4</td>\n    </tr>\n    <tr>\n      <th>2</th>\n      <td>17.50</td>\n      <td>Low Fat</td>\n      <td>0.016760</td>\n      <td>141.6180</td>\n      <td>Medium</td>\n      <td>Tier 1</td>\n      <td>Supermarket Type1</td>\n      <td>FD</td>\n      <td>14</td>\n    </tr>\n    <tr>\n      <th>3</th>\n      <td>19.20</td>\n      <td>Regular</td>\n      <td>0.000000</td>\n      <td>182.0950</td>\n      <td>NaN</td>\n      <td>Tier 3</td>\n      <td>Grocery Store</td>\n      <td>FD</td>\n      <td>15</td>\n    </tr>\n    <tr>\n      <th>4</th>\n      <td>8.93</td>\n      <td>Non-Edible</td>\n      <td>0.000000</td>\n      <td>53.8614</td>\n      <td>High</td>\n      <td>Tier 3</td>\n      <td>Supermarket Type1</td>\n      <td>NC</td>\n      <td>26</td>\n    </tr>\n  </tbody>\n</table>\n</div>"
     },
     "execution_count": 10,
     "metadata": {},
     "output_type": "execute_result"
    }
   ],
   "source": [
    "X.head()"
   ],
   "metadata": {
    "collapsed": false,
    "ExecuteTime": {
     "end_time": "2024-11-27T14:59:14.863715Z",
     "start_time": "2024-11-27T14:59:14.813668700Z"
    }
   }
  },
  {
   "cell_type": "code",
   "execution_count": 11,
   "outputs": [
    {
     "data": {
      "text/plain": "array(['Tier 1', 'Tier 3', 'Tier 2'], dtype=object)"
     },
     "execution_count": 11,
     "metadata": {},
     "output_type": "execute_result"
    }
   ],
   "source": [
    "df['Outlet_Location_Type'].unique()"
   ],
   "metadata": {
    "collapsed": false,
    "ExecuteTime": {
     "end_time": "2024-11-27T14:59:15.682266400Z",
     "start_time": "2024-11-27T14:59:15.653926200Z"
    }
   }
  },
  {
   "cell_type": "code",
   "execution_count": 12,
   "outputs": [
    {
     "data": {
      "text/plain": "Index(['Item_Weight', 'Item_Fat_Content', 'Item_Visibility', 'Item_MRP',\n       'Outlet_Size', 'Outlet_Location_Type', 'Outlet_Type', 'New_Item_Type',\n       'Outlet_Age'],\n      dtype='object')"
     },
     "execution_count": 12,
     "metadata": {},
     "output_type": "execute_result"
    }
   ],
   "source": [
    "X.columns"
   ],
   "metadata": {
    "collapsed": false,
    "ExecuteTime": {
     "end_time": "2024-11-27T14:59:16.500511300Z",
     "start_time": "2024-11-27T14:59:16.483846500Z"
    }
   }
  },
  {
   "cell_type": "markdown",
   "source": [],
   "metadata": {
    "collapsed": false
   }
  },
  {
   "cell_type": "code",
   "execution_count": 13,
   "outputs": [],
   "source": [
    "X_train, X_test, y_train, y_test = train_test_split(X, y, test_size=0.2, random_state=42)"
   ],
   "metadata": {
    "collapsed": false,
    "ExecuteTime": {
     "end_time": "2024-11-27T14:59:17.979923400Z",
     "start_time": "2024-11-27T14:59:17.959630400Z"
    }
   }
  },
  {
   "cell_type": "code",
   "execution_count": 14,
   "outputs": [],
   "source": [
    "categorical_encoder = CustomTransformer(transformers=[\n",
    "    ('temp_impute',SimpleImputer(strategy='constant', fill_value='Missing'),['Outlet_Size']),\n",
    "    ('numerical_encoder', OrdinalEncoder(categories=[\n",
    "        ['Non-Edible','Low Fat', 'Regular'],\n",
    "        ['Small', 'Medium', 'High', 'Missing'],\n",
    "        ['Tier 1', 'Tier 2', 'Tier 3']\n",
    "    ]),['Item_Fat_Content', 'Outlet_Size', 'Outlet_Location_Type']),\n",
    "    ('ohe', OneHotEncoder(sparse_output=False, drop='first'), ['New_Item_Type','Outlet_Type']),\n",
    "    ('temp_impute_restore', SimpleImputer(strategy='constant', fill_value=np.NAN, missing_values=3.),['Outlet_Size'])\n",
    "])"
   ],
   "metadata": {
    "collapsed": false,
    "ExecuteTime": {
     "end_time": "2024-11-27T14:59:18.699862300Z",
     "start_time": "2024-11-27T14:59:18.687703400Z"
    }
   }
  },
  {
   "cell_type": "code",
   "execution_count": 15,
   "outputs": [],
   "source": [
    "X_train = categorical_encoder.fit_transform(X_train)"
   ],
   "metadata": {
    "collapsed": false,
    "ExecuteTime": {
     "end_time": "2024-11-27T14:59:19.452492700Z",
     "start_time": "2024-11-27T14:59:19.349532800Z"
    }
   }
  },
  {
   "cell_type": "code",
   "execution_count": 16,
   "outputs": [
    {
     "data": {
      "text/plain": "      Item_Weight  Item_Fat_Content  Item_Visibility  Item_MRP  Outlet_Size  \\\n549         9.500               2.0         0.035206  171.3448          1.0   \n7757       18.000               0.0         0.047473  170.5422          NaN   \n764        17.600               2.0         0.076122  111.7202          0.0   \n6867        8.325               1.0         0.029845   41.6138          NaN   \n2716       12.850               1.0         0.137228  155.5630          0.0   \n...           ...               ...              ...       ...          ...   \n5734        9.395               2.0         0.286345  139.1838          NaN   \n5191       15.600               1.0         0.117575   75.6670          NaN   \n5390       17.600               0.0         0.018944  237.3590          NaN   \n860        20.350               1.0         0.054363  117.9466          NaN   \n7270       16.350               0.0         0.016993   95.7410          0.0   \n\n      Outlet_Location_Type  Outlet_Age  New_Item_Type_FD  New_Item_Type_NC  \\\n549                    0.0          14               1.0               0.0   \n7757                   1.0          11               0.0               1.0   \n764                    0.0          16               1.0               0.0   \n6867                   1.0          11               1.0               0.0   \n2716                   0.0          16               1.0               0.0   \n...                    ...         ...               ...               ...   \n5734                   2.0          15               1.0               0.0   \n5191                   1.0           6               1.0               0.0   \n5390                   1.0          11               0.0               1.0   \n860                    1.0           6               1.0               0.0   \n7270                   0.0          16               0.0               1.0   \n\n      Outlet_Type_Supermarket Type1  Outlet_Type_Supermarket Type2  \\\n549                             1.0                            0.0   \n7757                            1.0                            0.0   \n764                             1.0                            0.0   \n6867                            1.0                            0.0   \n2716                            1.0                            0.0   \n...                             ...                            ...   \n5734                            0.0                            0.0   \n5191                            1.0                            0.0   \n5390                            1.0                            0.0   \n860                             1.0                            0.0   \n7270                            1.0                            0.0   \n\n      Outlet_Type_Supermarket Type3  \n549                             0.0  \n7757                            0.0  \n764                             0.0  \n6867                            0.0  \n2716                            0.0  \n...                             ...  \n5734                            0.0  \n5191                            0.0  \n5390                            0.0  \n860                             0.0  \n7270                            0.0  \n\n[6818 rows x 12 columns]",
      "text/html": "<div>\n<style scoped>\n    .dataframe tbody tr th:only-of-type {\n        vertical-align: middle;\n    }\n\n    .dataframe tbody tr th {\n        vertical-align: top;\n    }\n\n    .dataframe thead th {\n        text-align: right;\n    }\n</style>\n<table border=\"1\" class=\"dataframe\">\n  <thead>\n    <tr style=\"text-align: right;\">\n      <th></th>\n      <th>Item_Weight</th>\n      <th>Item_Fat_Content</th>\n      <th>Item_Visibility</th>\n      <th>Item_MRP</th>\n      <th>Outlet_Size</th>\n      <th>Outlet_Location_Type</th>\n      <th>Outlet_Age</th>\n      <th>New_Item_Type_FD</th>\n      <th>New_Item_Type_NC</th>\n      <th>Outlet_Type_Supermarket Type1</th>\n      <th>Outlet_Type_Supermarket Type2</th>\n      <th>Outlet_Type_Supermarket Type3</th>\n    </tr>\n  </thead>\n  <tbody>\n    <tr>\n      <th>549</th>\n      <td>9.500</td>\n      <td>2.0</td>\n      <td>0.035206</td>\n      <td>171.3448</td>\n      <td>1.0</td>\n      <td>0.0</td>\n      <td>14</td>\n      <td>1.0</td>\n      <td>0.0</td>\n      <td>1.0</td>\n      <td>0.0</td>\n      <td>0.0</td>\n    </tr>\n    <tr>\n      <th>7757</th>\n      <td>18.000</td>\n      <td>0.0</td>\n      <td>0.047473</td>\n      <td>170.5422</td>\n      <td>NaN</td>\n      <td>1.0</td>\n      <td>11</td>\n      <td>0.0</td>\n      <td>1.0</td>\n      <td>1.0</td>\n      <td>0.0</td>\n      <td>0.0</td>\n    </tr>\n    <tr>\n      <th>764</th>\n      <td>17.600</td>\n      <td>2.0</td>\n      <td>0.076122</td>\n      <td>111.7202</td>\n      <td>0.0</td>\n      <td>0.0</td>\n      <td>16</td>\n      <td>1.0</td>\n      <td>0.0</td>\n      <td>1.0</td>\n      <td>0.0</td>\n      <td>0.0</td>\n    </tr>\n    <tr>\n      <th>6867</th>\n      <td>8.325</td>\n      <td>1.0</td>\n      <td>0.029845</td>\n      <td>41.6138</td>\n      <td>NaN</td>\n      <td>1.0</td>\n      <td>11</td>\n      <td>1.0</td>\n      <td>0.0</td>\n      <td>1.0</td>\n      <td>0.0</td>\n      <td>0.0</td>\n    </tr>\n    <tr>\n      <th>2716</th>\n      <td>12.850</td>\n      <td>1.0</td>\n      <td>0.137228</td>\n      <td>155.5630</td>\n      <td>0.0</td>\n      <td>0.0</td>\n      <td>16</td>\n      <td>1.0</td>\n      <td>0.0</td>\n      <td>1.0</td>\n      <td>0.0</td>\n      <td>0.0</td>\n    </tr>\n    <tr>\n      <th>...</th>\n      <td>...</td>\n      <td>...</td>\n      <td>...</td>\n      <td>...</td>\n      <td>...</td>\n      <td>...</td>\n      <td>...</td>\n      <td>...</td>\n      <td>...</td>\n      <td>...</td>\n      <td>...</td>\n      <td>...</td>\n    </tr>\n    <tr>\n      <th>5734</th>\n      <td>9.395</td>\n      <td>2.0</td>\n      <td>0.286345</td>\n      <td>139.1838</td>\n      <td>NaN</td>\n      <td>2.0</td>\n      <td>15</td>\n      <td>1.0</td>\n      <td>0.0</td>\n      <td>0.0</td>\n      <td>0.0</td>\n      <td>0.0</td>\n    </tr>\n    <tr>\n      <th>5191</th>\n      <td>15.600</td>\n      <td>1.0</td>\n      <td>0.117575</td>\n      <td>75.6670</td>\n      <td>NaN</td>\n      <td>1.0</td>\n      <td>6</td>\n      <td>1.0</td>\n      <td>0.0</td>\n      <td>1.0</td>\n      <td>0.0</td>\n      <td>0.0</td>\n    </tr>\n    <tr>\n      <th>5390</th>\n      <td>17.600</td>\n      <td>0.0</td>\n      <td>0.018944</td>\n      <td>237.3590</td>\n      <td>NaN</td>\n      <td>1.0</td>\n      <td>11</td>\n      <td>0.0</td>\n      <td>1.0</td>\n      <td>1.0</td>\n      <td>0.0</td>\n      <td>0.0</td>\n    </tr>\n    <tr>\n      <th>860</th>\n      <td>20.350</td>\n      <td>1.0</td>\n      <td>0.054363</td>\n      <td>117.9466</td>\n      <td>NaN</td>\n      <td>1.0</td>\n      <td>6</td>\n      <td>1.0</td>\n      <td>0.0</td>\n      <td>1.0</td>\n      <td>0.0</td>\n      <td>0.0</td>\n    </tr>\n    <tr>\n      <th>7270</th>\n      <td>16.350</td>\n      <td>0.0</td>\n      <td>0.016993</td>\n      <td>95.7410</td>\n      <td>0.0</td>\n      <td>0.0</td>\n      <td>16</td>\n      <td>0.0</td>\n      <td>1.0</td>\n      <td>1.0</td>\n      <td>0.0</td>\n      <td>0.0</td>\n    </tr>\n  </tbody>\n</table>\n<p>6818 rows × 12 columns</p>\n</div>"
     },
     "execution_count": 16,
     "metadata": {},
     "output_type": "execute_result"
    }
   ],
   "source": [
    "X_train"
   ],
   "metadata": {
    "collapsed": false,
    "ExecuteTime": {
     "end_time": "2024-11-27T14:59:20.542360700Z",
     "start_time": "2024-11-27T14:59:20.492106300Z"
    }
   }
  },
  {
   "cell_type": "code",
   "execution_count": 17,
   "outputs": [],
   "source": [
    "from sklearn.preprocessing import StandardScaler, FunctionTransformer"
   ],
   "metadata": {
    "collapsed": false,
    "ExecuteTime": {
     "end_time": "2024-11-27T14:59:25.088811900Z",
     "start_time": "2024-11-27T14:59:25.065987100Z"
    }
   }
  },
  {
   "cell_type": "code",
   "execution_count": 18,
   "outputs": [
    {
     "data": {
      "text/plain": "Index(['Item_Weight', 'Item_Fat_Content', 'Item_Visibility', 'Item_MRP',\n       'Outlet_Size', 'Outlet_Location_Type', 'Outlet_Age', 'New_Item_Type_FD',\n       'New_Item_Type_NC', 'Outlet_Type_Supermarket Type1',\n       'Outlet_Type_Supermarket Type2', 'Outlet_Type_Supermarket Type3'],\n      dtype='object')"
     },
     "execution_count": 18,
     "metadata": {},
     "output_type": "execute_result"
    }
   ],
   "source": [
    "X_train.columns"
   ],
   "metadata": {
    "collapsed": false,
    "ExecuteTime": {
     "end_time": "2024-11-27T14:59:25.461036800Z",
     "start_time": "2024-11-27T14:59:25.420637900Z"
    }
   }
  },
  {
   "cell_type": "code",
   "execution_count": 19,
   "outputs": [],
   "source": [
    "from sklearn.preprocessing import KBinsDiscretizer"
   ],
   "metadata": {
    "collapsed": false,
    "ExecuteTime": {
     "end_time": "2024-11-27T14:59:26.359330100Z",
     "start_time": "2024-11-27T14:59:26.354747500Z"
    }
   }
  },
  {
   "cell_type": "code",
   "execution_count": 20,
   "outputs": [],
   "source": [
    "descretizer = CustomTransformer(transformers=[\n",
    "    ('descrete_age' ,KBinsDiscretizer(encode='ordinal', strategy='quantile', subsample=200_000), ['Outlet_Age'])\n",
    "])"
   ],
   "metadata": {
    "collapsed": false,
    "ExecuteTime": {
     "end_time": "2024-11-27T14:59:27.061631400Z",
     "start_time": "2024-11-27T14:59:27.054412900Z"
    }
   }
  },
  {
   "cell_type": "code",
   "execution_count": 21,
   "outputs": [],
   "source": [
    "X_train = descretizer.fit_transform(X_train)"
   ],
   "metadata": {
    "collapsed": false,
    "ExecuteTime": {
     "end_time": "2024-11-27T14:59:28.626916400Z",
     "start_time": "2024-11-27T14:59:28.589094300Z"
    }
   }
  },
  {
   "cell_type": "code",
   "execution_count": 22,
   "outputs": [
    {
     "data": {
      "text/plain": "array([array([ 4.,  6., 11., 15., 26., 28.])], dtype=object)"
     },
     "execution_count": 22,
     "metadata": {},
     "output_type": "execute_result"
    }
   ],
   "source": [
    "descretizer.transformers[0][1].bin_edges_"
   ],
   "metadata": {
    "collapsed": false,
    "ExecuteTime": {
     "end_time": "2024-11-27T14:59:29.719274400Z",
     "start_time": "2024-11-27T14:59:29.694902500Z"
    }
   }
  },
  {
   "cell_type": "code",
   "execution_count": 23,
   "outputs": [],
   "source": [
    "imputer_and_normalizer = CustomTransformer(transformers=[\n",
    "    ('root_transform',FunctionTransformer(func=np.sqrt),['Item_Visibility']),\n",
    "    ('temp_impute', SimpleImputer(strategy='constant', fill_value=np.NAN, missing_values=0.),['Item_Visibility']),\n",
    "    ('knn_imputer' ,KNNImputer(n_neighbors=5, weights='distance'),list(X_train.columns)),\n",
    "    ('log_transform',FunctionTransformer(func=np.log1p),['Item_Weight']),\n",
    "    ('scaler',StandardScaler(),['Item_Weight', 'Item_MRP'])\n",
    "])"
   ],
   "metadata": {
    "collapsed": false,
    "ExecuteTime": {
     "end_time": "2024-11-27T14:59:31.238716500Z",
     "start_time": "2024-11-27T14:59:31.222628200Z"
    }
   }
  },
  {
   "cell_type": "code",
   "execution_count": 24,
   "outputs": [],
   "source": [
    "X_train = imputer_and_normalizer.fit_transform(X_train)"
   ],
   "metadata": {
    "collapsed": false,
    "ExecuteTime": {
     "end_time": "2024-11-27T14:59:34.542964500Z",
     "start_time": "2024-11-27T14:59:32.330793400Z"
    }
   }
  },
  {
   "cell_type": "code",
   "execution_count": 25,
   "outputs": [
    {
     "data": {
      "text/plain": "      Item_Weight  Item_Fat_Content  Item_Visibility  Item_MRP  Outlet_Size  \\\n549     -0.674890               2.0         0.187632  0.470709     1.000000   \n7757     1.096958               0.0         0.217883  0.457877     0.360989   \n764      1.033389               2.0         0.275902 -0.482625     0.000000   \n6867    -1.029449               1.0         0.172758 -1.603553     0.199708   \n2716     0.152411               1.0         0.370443  0.218375     0.000000   \n...           ...               ...              ...       ...          ...   \n5734    -0.704916               2.0         0.535112 -0.043511     1.183311   \n5191     0.693521               1.0         0.342891 -1.059078     0.000000   \n5390     1.033389               0.0         0.137636  1.526207     1.029452   \n860      1.445352               1.0         0.233158 -0.383072     0.358409   \n7270     0.825543               0.0         0.130358 -0.738116     0.000000   \n\n      Outlet_Location_Type  Outlet_Age  New_Item_Type_FD  New_Item_Type_NC  \\\n549                    0.0         2.0               1.0               0.0   \n7757                   1.0         2.0               0.0               1.0   \n764                    0.0         3.0               1.0               0.0   \n6867                   1.0         2.0               1.0               0.0   \n2716                   0.0         3.0               1.0               0.0   \n...                    ...         ...               ...               ...   \n5734                   2.0         3.0               1.0               0.0   \n5191                   1.0         1.0               1.0               0.0   \n5390                   1.0         2.0               0.0               1.0   \n860                    1.0         1.0               1.0               0.0   \n7270                   0.0         3.0               0.0               1.0   \n\n      Outlet_Type_Supermarket Type1  Outlet_Type_Supermarket Type2  \\\n549                             1.0                            0.0   \n7757                            1.0                            0.0   \n764                             1.0                            0.0   \n6867                            1.0                            0.0   \n2716                            1.0                            0.0   \n...                             ...                            ...   \n5734                            0.0                            0.0   \n5191                            1.0                            0.0   \n5390                            1.0                            0.0   \n860                             1.0                            0.0   \n7270                            1.0                            0.0   \n\n      Outlet_Type_Supermarket Type3  \n549                             0.0  \n7757                            0.0  \n764                             0.0  \n6867                            0.0  \n2716                            0.0  \n...                             ...  \n5734                            0.0  \n5191                            0.0  \n5390                            0.0  \n860                             0.0  \n7270                            0.0  \n\n[6818 rows x 12 columns]",
      "text/html": "<div>\n<style scoped>\n    .dataframe tbody tr th:only-of-type {\n        vertical-align: middle;\n    }\n\n    .dataframe tbody tr th {\n        vertical-align: top;\n    }\n\n    .dataframe thead th {\n        text-align: right;\n    }\n</style>\n<table border=\"1\" class=\"dataframe\">\n  <thead>\n    <tr style=\"text-align: right;\">\n      <th></th>\n      <th>Item_Weight</th>\n      <th>Item_Fat_Content</th>\n      <th>Item_Visibility</th>\n      <th>Item_MRP</th>\n      <th>Outlet_Size</th>\n      <th>Outlet_Location_Type</th>\n      <th>Outlet_Age</th>\n      <th>New_Item_Type_FD</th>\n      <th>New_Item_Type_NC</th>\n      <th>Outlet_Type_Supermarket Type1</th>\n      <th>Outlet_Type_Supermarket Type2</th>\n      <th>Outlet_Type_Supermarket Type3</th>\n    </tr>\n  </thead>\n  <tbody>\n    <tr>\n      <th>549</th>\n      <td>-0.674890</td>\n      <td>2.0</td>\n      <td>0.187632</td>\n      <td>0.470709</td>\n      <td>1.000000</td>\n      <td>0.0</td>\n      <td>2.0</td>\n      <td>1.0</td>\n      <td>0.0</td>\n      <td>1.0</td>\n      <td>0.0</td>\n      <td>0.0</td>\n    </tr>\n    <tr>\n      <th>7757</th>\n      <td>1.096958</td>\n      <td>0.0</td>\n      <td>0.217883</td>\n      <td>0.457877</td>\n      <td>0.360989</td>\n      <td>1.0</td>\n      <td>2.0</td>\n      <td>0.0</td>\n      <td>1.0</td>\n      <td>1.0</td>\n      <td>0.0</td>\n      <td>0.0</td>\n    </tr>\n    <tr>\n      <th>764</th>\n      <td>1.033389</td>\n      <td>2.0</td>\n      <td>0.275902</td>\n      <td>-0.482625</td>\n      <td>0.000000</td>\n      <td>0.0</td>\n      <td>3.0</td>\n      <td>1.0</td>\n      <td>0.0</td>\n      <td>1.0</td>\n      <td>0.0</td>\n      <td>0.0</td>\n    </tr>\n    <tr>\n      <th>6867</th>\n      <td>-1.029449</td>\n      <td>1.0</td>\n      <td>0.172758</td>\n      <td>-1.603553</td>\n      <td>0.199708</td>\n      <td>1.0</td>\n      <td>2.0</td>\n      <td>1.0</td>\n      <td>0.0</td>\n      <td>1.0</td>\n      <td>0.0</td>\n      <td>0.0</td>\n    </tr>\n    <tr>\n      <th>2716</th>\n      <td>0.152411</td>\n      <td>1.0</td>\n      <td>0.370443</td>\n      <td>0.218375</td>\n      <td>0.000000</td>\n      <td>0.0</td>\n      <td>3.0</td>\n      <td>1.0</td>\n      <td>0.0</td>\n      <td>1.0</td>\n      <td>0.0</td>\n      <td>0.0</td>\n    </tr>\n    <tr>\n      <th>...</th>\n      <td>...</td>\n      <td>...</td>\n      <td>...</td>\n      <td>...</td>\n      <td>...</td>\n      <td>...</td>\n      <td>...</td>\n      <td>...</td>\n      <td>...</td>\n      <td>...</td>\n      <td>...</td>\n      <td>...</td>\n    </tr>\n    <tr>\n      <th>5734</th>\n      <td>-0.704916</td>\n      <td>2.0</td>\n      <td>0.535112</td>\n      <td>-0.043511</td>\n      <td>1.183311</td>\n      <td>2.0</td>\n      <td>3.0</td>\n      <td>1.0</td>\n      <td>0.0</td>\n      <td>0.0</td>\n      <td>0.0</td>\n      <td>0.0</td>\n    </tr>\n    <tr>\n      <th>5191</th>\n      <td>0.693521</td>\n      <td>1.0</td>\n      <td>0.342891</td>\n      <td>-1.059078</td>\n      <td>0.000000</td>\n      <td>1.0</td>\n      <td>1.0</td>\n      <td>1.0</td>\n      <td>0.0</td>\n      <td>1.0</td>\n      <td>0.0</td>\n      <td>0.0</td>\n    </tr>\n    <tr>\n      <th>5390</th>\n      <td>1.033389</td>\n      <td>0.0</td>\n      <td>0.137636</td>\n      <td>1.526207</td>\n      <td>1.029452</td>\n      <td>1.0</td>\n      <td>2.0</td>\n      <td>0.0</td>\n      <td>1.0</td>\n      <td>1.0</td>\n      <td>0.0</td>\n      <td>0.0</td>\n    </tr>\n    <tr>\n      <th>860</th>\n      <td>1.445352</td>\n      <td>1.0</td>\n      <td>0.233158</td>\n      <td>-0.383072</td>\n      <td>0.358409</td>\n      <td>1.0</td>\n      <td>1.0</td>\n      <td>1.0</td>\n      <td>0.0</td>\n      <td>1.0</td>\n      <td>0.0</td>\n      <td>0.0</td>\n    </tr>\n    <tr>\n      <th>7270</th>\n      <td>0.825543</td>\n      <td>0.0</td>\n      <td>0.130358</td>\n      <td>-0.738116</td>\n      <td>0.000000</td>\n      <td>0.0</td>\n      <td>3.0</td>\n      <td>0.0</td>\n      <td>1.0</td>\n      <td>1.0</td>\n      <td>0.0</td>\n      <td>0.0</td>\n    </tr>\n  </tbody>\n</table>\n<p>6818 rows × 12 columns</p>\n</div>"
     },
     "execution_count": 25,
     "metadata": {},
     "output_type": "execute_result"
    }
   ],
   "source": [
    "X_train"
   ],
   "metadata": {
    "collapsed": false,
    "ExecuteTime": {
     "end_time": "2024-11-27T14:59:41.236881200Z",
     "start_time": "2024-11-27T14:59:41.163490100Z"
    }
   }
  },
  {
   "cell_type": "code",
   "execution_count": 26,
   "outputs": [
    {
     "data": {
      "text/plain": "<Axes: xlabel='Item_Outlet_Sales', ylabel='Density'>"
     },
     "execution_count": 26,
     "metadata": {},
     "output_type": "execute_result"
    },
    {
     "data": {
      "text/plain": "<Figure size 640x480 with 1 Axes>",
      "image/png": "[encoded data removed]"
     },
     "metadata": {},
     "output_type": "display_data"
    }
   ],
   "source": [
    "sns.kdeplot(np.log1p(y_train))"
   ],
   "metadata": {
    "collapsed": false,
    "ExecuteTime": {
     "end_time": "2024-11-27T14:59:49.727597600Z",
     "start_time": "2024-11-27T14:59:49.056487300Z"
    }
   }
  },
  {
   "cell_type": "code",
   "execution_count": 27,
   "outputs": [],
   "source": [
    "from sklearn.pipeline import Pipeline"
   ],
   "metadata": {
    "collapsed": false,
    "ExecuteTime": {
     "end_time": "2024-11-27T15:00:02.477759300Z",
     "start_time": "2024-11-27T15:00:02.449989500Z"
    }
   }
  },
  {
   "cell_type": "code",
   "execution_count": 28,
   "outputs": [],
   "source": [
    "preprocessing_pipeline = Pipeline(steps=[\n",
    "    ('categorical_encoder',categorical_encoder),\n",
    "    ('descretizer',descretizer),\n",
    "    ('imputer_and_normalizer', imputer_and_normalizer)\n",
    "],verbose=True)"
   ],
   "metadata": {
    "collapsed": false,
    "ExecuteTime": {
     "end_time": "2024-11-27T15:00:03.254600600Z",
     "start_time": "2024-11-27T15:00:03.246046600Z"
    }
   }
  },
  {
   "cell_type": "code",
   "execution_count": 29,
   "outputs": [],
   "source": [
    "X_test = preprocessing_pipeline.transform(X_test)"
   ],
   "metadata": {
    "collapsed": false,
    "ExecuteTime": {
     "end_time": "2024-11-27T15:00:10.854097300Z",
     "start_time": "2024-11-27T15:00:10.063939400Z"
    }
   }
  },
  {
   "cell_type": "code",
   "execution_count": 30,
   "outputs": [
    {
     "data": {
      "text/plain": "      Item_Weight  Item_Fat_Content  Item_Visibility  Item_MRP  Outlet_Size  \\\n7503     0.449881               1.0         0.162172 -0.998908          2.0   \n2957    -1.158761               0.0         0.266713 -1.586048          0.0   \n7031     0.488682               2.0         0.203256 -1.596652          1.0   \n1084    -0.286352               2.0         0.211582  0.508453          1.0   \n856     -0.483407               2.0         0.111605  0.889079          0.0   \n...           ...               ...              ...       ...          ...   \n7205    -0.083133               2.0         0.306032 -0.235593          0.0   \n3257    -1.479864               1.0         0.304694  0.100223          1.0   \n6346     0.488682               2.0         0.203014 -1.596652          2.0   \n6318    -0.590726               2.0         0.375744 -1.461459          1.0   \n6339    -1.167137               1.0         0.234731 -0.522515          0.0   \n\n      Outlet_Location_Type  Outlet_Age  New_Item_Type_FD  New_Item_Type_NC  \\\n7503                   2.0         4.0               1.0               0.0   \n2957                   0.0         3.0               0.0               1.0   \n7031                   0.0         2.0               1.0               0.0   \n1084                   2.0         4.0               0.0               0.0   \n856                    1.0         1.0               1.0               0.0   \n...                    ...         ...               ...               ...   \n7205                   0.0         3.0               1.0               0.0   \n3257                   2.0         0.0               1.0               0.0   \n6346                   2.0         4.0               1.0               0.0   \n6318                   2.0         0.0               1.0               0.0   \n6339                   1.0         2.0               1.0               0.0   \n\n      Outlet_Type_Supermarket Type1  Outlet_Type_Supermarket Type2  \\\n7503                            1.0                            0.0   \n2957                            1.0                            0.0   \n7031                            1.0                            0.0   \n1084                            0.0                            0.0   \n856                             1.0                            0.0   \n...                             ...                            ...   \n7205                            1.0                            0.0   \n3257                            0.0                            1.0   \n6346                            1.0                            0.0   \n6318                            0.0                            1.0   \n6339                            1.0                            0.0   \n\n      Outlet_Type_Supermarket Type3  \n7503                            0.0  \n2957                            0.0  \n7031                            0.0  \n1084                            1.0  \n856                             0.0  \n...                             ...  \n7205                            0.0  \n3257                            0.0  \n6346                            0.0  \n6318                            0.0  \n6339                            0.0  \n\n[1705 rows x 12 columns]",
      "text/html": "<div>\n<style scoped>\n    .dataframe tbody tr th:only-of-type {\n        vertical-align: middle;\n    }\n\n    .dataframe tbody tr th {\n        vertical-align: top;\n    }\n\n    .dataframe thead th {\n        text-align: right;\n    }\n</style>\n<table border=\"1\" class=\"dataframe\">\n  <thead>\n    <tr style=\"text-align: right;\">\n      <th></th>\n      <th>Item_Weight</th>\n      <th>Item_Fat_Content</th>\n      <th>Item_Visibility</th>\n      <th>Item_MRP</th>\n      <th>Outlet_Size</th>\n      <th>Outlet_Location_Type</th>\n      <th>Outlet_Age</th>\n      <th>New_Item_Type_FD</th>\n      <th>New_Item_Type_NC</th>\n      <th>Outlet_Type_Supermarket Type1</th>\n      <th>Outlet_Type_Supermarket Type2</th>\n      <th>Outlet_Type_Supermarket Type3</th>\n    </tr>\n  </thead>\n  <tbody>\n    <tr>\n      <th>7503</th>\n      <td>0.449881</td>\n      <td>1.0</td>\n      <td>0.162172</td>\n      <td>-0.998908</td>\n      <td>2.0</td>\n      <td>2.0</td>\n      <td>4.0</td>\n      <td>1.0</td>\n      <td>0.0</td>\n      <td>1.0</td>\n      <td>0.0</td>\n      <td>0.0</td>\n    </tr>\n    <tr>\n      <th>2957</th>\n      <td>-1.158761</td>\n      <td>0.0</td>\n      <td>0.266713</td>\n      <td>-1.586048</td>\n      <td>0.0</td>\n      <td>0.0</td>\n      <td>3.0</td>\n      <td>0.0</td>\n      <td>1.0</td>\n      <td>1.0</td>\n      <td>0.0</td>\n      <td>0.0</td>\n    </tr>\n    <tr>\n      <th>7031</th>\n      <td>0.488682</td>\n      <td>2.0</td>\n      <td>0.203256</td>\n      <td>-1.596652</td>\n      <td>1.0</td>\n      <td>0.0</td>\n      <td>2.0</td>\n      <td>1.0</td>\n      <td>0.0</td>\n      <td>1.0</td>\n      <td>0.0</td>\n      <td>0.0</td>\n    </tr>\n    <tr>\n      <th>1084</th>\n      <td>-0.286352</td>\n      <td>2.0</td>\n      <td>0.211582</td>\n      <td>0.508453</td>\n      <td>1.0</td>\n      <td>2.0</td>\n      <td>4.0</td>\n      <td>0.0</td>\n      <td>0.0</td>\n      <td>0.0</td>\n      <td>0.0</td>\n      <td>1.0</td>\n    </tr>\n    <tr>\n      <th>856</th>\n      <td>-0.483407</td>\n      <td>2.0</td>\n      <td>0.111605</td>\n      <td>0.889079</td>\n      <td>0.0</td>\n      <td>1.0</td>\n      <td>1.0</td>\n      <td>1.0</td>\n      <td>0.0</td>\n      <td>1.0</td>\n      <td>0.0</td>\n      <td>0.0</td>\n    </tr>\n    <tr>\n      <th>...</th>\n      <td>...</td>\n      <td>...</td>\n      <td>...</td>\n      <td>...</td>\n      <td>...</td>\n      <td>...</td>\n      <td>...</td>\n      <td>...</td>\n      <td>...</td>\n      <td>...</td>\n      <td>...</td>\n      <td>...</td>\n    </tr>\n    <tr>\n      <th>7205</th>\n      <td>-0.083133</td>\n      <td>2.0</td>\n      <td>0.306032</td>\n      <td>-0.235593</td>\n      <td>0.0</td>\n      <td>0.0</td>\n      <td>3.0</td>\n      <td>1.0</td>\n      <td>0.0</td>\n      <td>1.0</td>\n      <td>0.0</td>\n      <td>0.0</td>\n    </tr>\n    <tr>\n      <th>3257</th>\n      <td>-1.479864</td>\n      <td>1.0</td>\n      <td>0.304694</td>\n      <td>0.100223</td>\n      <td>1.0</td>\n      <td>2.0</td>\n      <td>0.0</td>\n      <td>1.0</td>\n      <td>0.0</td>\n      <td>0.0</td>\n      <td>1.0</td>\n      <td>0.0</td>\n    </tr>\n    <tr>\n      <th>6346</th>\n      <td>0.488682</td>\n      <td>2.0</td>\n      <td>0.203014</td>\n      <td>-1.596652</td>\n      <td>2.0</td>\n      <td>2.0</td>\n      <td>4.0</td>\n      <td>1.0</td>\n      <td>0.0</td>\n      <td>1.0</td>\n      <td>0.0</td>\n      <td>0.0</td>\n    </tr>\n    <tr>\n      <th>6318</th>\n      <td>-0.590726</td>\n      <td>2.0</td>\n      <td>0.375744</td>\n      <td>-1.461459</td>\n      <td>1.0</td>\n      <td>2.0</td>\n      <td>0.0</td>\n      <td>1.0</td>\n      <td>0.0</td>\n      <td>0.0</td>\n      <td>1.0</td>\n      <td>0.0</td>\n    </tr>\n    <tr>\n      <th>6339</th>\n      <td>-1.167137</td>\n      <td>1.0</td>\n      <td>0.234731</td>\n      <td>-0.522515</td>\n      <td>0.0</td>\n      <td>1.0</td>\n      <td>2.0</td>\n      <td>1.0</td>\n      <td>0.0</td>\n      <td>1.0</td>\n      <td>0.0</td>\n      <td>0.0</td>\n    </tr>\n  </tbody>\n</table>\n<p>1705 rows × 12 columns</p>\n</div>"
     },
     "execution_count": 30,
     "metadata": {},
     "output_type": "execute_result"
    }
   ],
   "source": [
    "X_test"
   ],
   "metadata": {
    "collapsed": false,
    "ExecuteTime": {
     "end_time": "2024-11-27T15:00:11.864263900Z",
     "start_time": "2024-11-27T15:00:11.697706100Z"
    }
   }
  },
  {
   "cell_type": "code",
   "execution_count": 48,
   "outputs": [],
   "source": [
    "import dill as pickle"
   ],
   "metadata": {
    "collapsed": false,
    "ExecuteTime": {
     "end_time": "2024-11-27T15:16:15.092926200Z",
     "start_time": "2024-11-27T15:16:15.060221100Z"
    }
   }
  },
  {
   "cell_type": "code",
   "execution_count": 49,
   "outputs": [],
   "source": [
    "with open('artifacts/preprocessing.pkl', 'wb') as file:\n",
    "    pickle.dump(preprocessing_pipeline,file)"
   ],
   "metadata": {
    "collapsed": false,
    "ExecuteTime": {
     "end_time": "2024-11-27T15:16:15.410694300Z",
     "start_time": "2024-11-27T15:16:15.331801300Z"
    }
   }
  },
  {
   "cell_type": "code",
   "execution_count": 50,
   "outputs": [
    {
     "data": {
      "text/plain": "      Item_Weight  Item_Fat_Content  Item_Visibility  Item_MRP  Outlet_Size  \\\n549     -0.674890               2.0         0.187632  0.470709     1.000000   \n7757     1.096958               0.0         0.217883  0.457877     0.360989   \n764      1.033389               2.0         0.275902 -0.482625     0.000000   \n6867    -1.029449               1.0         0.172758 -1.603553     0.199708   \n2716     0.152411               1.0         0.370443  0.218375     0.000000   \n...           ...               ...              ...       ...          ...   \n5734    -0.704916               2.0         0.535112 -0.043511     1.183311   \n5191     0.693521               1.0         0.342891 -1.059078     0.000000   \n5390     1.033389               0.0         0.137636  1.526207     1.029452   \n860      1.445352               1.0         0.233158 -0.383072     0.358409   \n7270     0.825543               0.0         0.130358 -0.738116     0.000000   \n\n      Outlet_Location_Type  Outlet_Age  New_Item_Type_FD  New_Item_Type_NC  \\\n549                    0.0         2.0               1.0               0.0   \n7757                   1.0         2.0               0.0               1.0   \n764                    0.0         3.0               1.0               0.0   \n6867                   1.0         2.0               1.0               0.0   \n2716                   0.0         3.0               1.0               0.0   \n...                    ...         ...               ...               ...   \n5734                   2.0         3.0               1.0               0.0   \n5191                   1.0         1.0               1.0               0.0   \n5390                   1.0         2.0               0.0               1.0   \n860                    1.0         1.0               1.0               0.0   \n7270                   0.0         3.0               0.0               1.0   \n\n      Outlet_Type_Supermarket Type1  Outlet_Type_Supermarket Type2  \\\n549                             1.0                            0.0   \n7757                            1.0                            0.0   \n764                             1.0                            0.0   \n6867                            1.0                            0.0   \n2716                            1.0                            0.0   \n...                             ...                            ...   \n5734                            0.0                            0.0   \n5191                            1.0                            0.0   \n5390                            1.0                            0.0   \n860                             1.0                            0.0   \n7270                            1.0                            0.0   \n\n      Outlet_Type_Supermarket Type3  \n549                             0.0  \n7757                            0.0  \n764                             0.0  \n6867                            0.0  \n2716                            0.0  \n...                             ...  \n5734                            0.0  \n5191                            0.0  \n5390                            0.0  \n860                             0.0  \n7270                            0.0  \n\n[6818 rows x 12 columns]",
      "text/html": "<div>\n<style scoped>\n    .dataframe tbody tr th:only-of-type {\n        vertical-align: middle;\n    }\n\n    .dataframe tbody tr th {\n        vertical-align: top;\n    }\n\n    .dataframe thead th {\n        text-align: right;\n    }\n</style>\n<table border=\"1\" class=\"dataframe\">\n  <thead>\n    <tr style=\"text-align: right;\">\n      <th></th>\n      <th>Item_Weight</th>\n      <th>Item_Fat_Content</th>\n      <th>Item_Visibility</th>\n      <th>Item_MRP</th>\n      <th>Outlet_Size</th>\n      <th>Outlet_Location_Type</th>\n      <th>Outlet_Age</th>\n      <th>New_Item_Type_FD</th>\n      <th>New_Item_Type_NC</th>\n      <th>Outlet_Type_Supermarket Type1</th>\n      <th>Outlet_Type_Supermarket Type2</th>\n      <th>Outlet_Type_Supermarket Type3</th>\n    </tr>\n  </thead>\n  <tbody>\n    <tr>\n      <th>549</th>\n      <td>-0.674890</td>\n      <td>2.0</td>\n      <td>0.187632</td>\n      <td>0.470709</td>\n      <td>1.000000</td>\n      <td>0.0</td>\n      <td>2.0</td>\n      <td>1.0</td>\n      <td>0.0</td>\n      <td>1.0</td>\n      <td>0.0</td>\n      <td>0.0</td>\n    </tr>\n    <tr>\n      <th>7757</th>\n      <td>1.096958</td>\n      <td>0.0</td>\n      <td>0.217883</td>\n      <td>0.457877</td>\n      <td>0.360989</td>\n      <td>1.0</td>\n      <td>2.0</td>\n      <td>0.0</td>\n      <td>1.0</td>\n      <td>1.0</td>\n      <td>0.0</td>\n      <td>0.0</td>\n    </tr>\n    <tr>\n      <th>764</th>\n      <td>1.033389</td>\n      <td>2.0</td>\n      <td>0.275902</td>\n      <td>-0.482625</td>\n      <td>0.000000</td>\n      <td>0.0</td>\n      <td>3.0</td>\n      <td>1.0</td>\n      <td>0.0</td>\n      <td>1.0</td>\n      <td>0.0</td>\n      <td>0.0</td>\n    </tr>\n    <tr>\n      <th>6867</th>\n      <td>-1.029449</td>\n      <td>1.0</td>\n      <td>0.172758</td>\n      <td>-1.603553</td>\n      <td>0.199708</td>\n      <td>1.0</td>\n      <td>2.0</td>\n      <td>1.0</td>\n      <td>0.0</td>\n      <td>1.0</td>\n      <td>0.0</td>\n      <td>0.0</td>\n    </tr>\n    <tr>\n      <th>2716</th>\n      <td>0.152411</td>\n      <td>1.0</td>\n      <td>0.370443</td>\n      <td>0.218375</td>\n      <td>0.000000</td>\n      <td>0.0</td>\n      <td>3.0</td>\n      <td>1.0</td>\n      <td>0.0</td>\n      <td>1.0</td>\n      <td>0.0</td>\n      <td>0.0</td>\n    </tr>\n    <tr>\n      <th>...</th>\n      <td>...</td>\n      <td>...</td>\n      <td>...</td>\n      <td>...</td>\n      <td>...</td>\n      <td>...</td>\n      <td>...</td>\n      <td>...</td>\n      <td>...</td>\n      <td>...</td>\n      <td>...</td>\n      <td>...</td>\n    </tr>\n    <tr>\n      <th>5734</th>\n      <td>-0.704916</td>\n      <td>2.0</td>\n      <td>0.535112</td>\n      <td>-0.043511</td>\n      <td>1.183311</td>\n      <td>2.0</td>\n      <td>3.0</td>\n      <td>1.0</td>\n      <td>0.0</td>\n      <td>0.0</td>\n      <td>0.0</td>\n      <td>0.0</td>\n    </tr>\n    <tr>\n      <th>5191</th>\n      <td>0.693521</td>\n      <td>1.0</td>\n      <td>0.342891</td>\n      <td>-1.059078</td>\n      <td>0.000000</td>\n      <td>1.0</td>\n      <td>1.0</td>\n      <td>1.0</td>\n      <td>0.0</td>\n      <td>1.0</td>\n      <td>0.0</td>\n      <td>0.0</td>\n    </tr>\n    <tr>\n      <th>5390</th>\n      <td>1.033389</td>\n      <td>0.0</td>\n      <td>0.137636</td>\n      <td>1.526207</td>\n      <td>1.029452</td>\n      <td>1.0</td>\n      <td>2.0</td>\n      <td>0.0</td>\n      <td>1.0</td>\n      <td>1.0</td>\n      <td>0.0</td>\n      <td>0.0</td>\n    </tr>\n    <tr>\n      <th>860</th>\n      <td>1.445352</td>\n      <td>1.0</td>\n      <td>0.233158</td>\n      <td>-0.383072</td>\n      <td>0.358409</td>\n      <td>1.0</td>\n      <td>1.0</td>\n      <td>1.0</td>\n      <td>0.0</td>\n      <td>1.0</td>\n      <td>0.0</td>\n      <td>0.0</td>\n    </tr>\n    <tr>\n      <th>7270</th>\n      <td>0.825543</td>\n      <td>0.0</td>\n      <td>0.130358</td>\n      <td>-0.738116</td>\n      <td>0.000000</td>\n      <td>0.0</td>\n      <td>3.0</td>\n      <td>0.0</td>\n      <td>1.0</td>\n      <td>1.0</td>\n      <td>0.0</td>\n      <td>0.0</td>\n    </tr>\n  </tbody>\n</table>\n<p>6818 rows × 12 columns</p>\n</div>"
     },
     "execution_count": 50,
     "metadata": {},
     "output_type": "execute_result"
    }
   ],
   "source": [
    "X_train"
   ],
   "metadata": {
    "collapsed": false,
    "ExecuteTime": {
     "end_time": "2024-11-27T15:16:15.929013400Z",
     "start_time": "2024-11-27T15:16:15.829019700Z"
    }
   }
  },
  {
   "cell_type": "code",
   "execution_count": 51,
   "outputs": [],
   "source": [
    "y_trf = FunctionTransformer(func=np.log1p, inverse_func=lambda x: np.exp(x)-1)"
   ],
   "metadata": {
    "collapsed": false,
    "ExecuteTime": {
     "end_time": "2024-11-27T15:16:16.291277700Z",
     "start_time": "2024-11-27T15:16:16.252031700Z"
    }
   }
  },
  {
   "cell_type": "code",
   "execution_count": 52,
   "outputs": [],
   "source": [
    "y_train = y_trf.transform(y_train)"
   ],
   "metadata": {
    "collapsed": false,
    "ExecuteTime": {
     "end_time": "2024-11-27T15:16:16.516016900Z",
     "start_time": "2024-11-27T15:16:16.492961400Z"
    }
   }
  },
  {
   "cell_type": "code",
   "execution_count": 53,
   "outputs": [],
   "source": [
    "y_test = y_trf.transform(y_test)"
   ],
   "metadata": {
    "collapsed": false,
    "ExecuteTime": {
     "end_time": "2024-11-27T15:16:16.704008400Z",
     "start_time": "2024-11-27T15:16:16.659530600Z"
    }
   }
  },
  {
   "cell_type": "code",
   "execution_count": 54,
   "outputs": [],
   "source": [
    "with open('artifacts/preprocessing_y.pkl', 'wb') as file:\n",
    "    pickle.dump(y_trf,file)"
   ],
   "metadata": {
    "collapsed": false,
    "ExecuteTime": {
     "end_time": "2024-11-27T15:16:16.889933400Z",
     "start_time": "2024-11-27T15:16:16.837897500Z"
    }
   }
  },
  {
   "cell_type": "code",
   "execution_count": 55,
   "outputs": [],
   "source": [
    "X_train.to_csv(path_or_buf='data/X_train.csv')\n",
    "X_test.to_csv(path_or_buf='data/X_test.csv')\n",
    "y_train.to_csv(path_or_buf='data/y_train.csv')\n",
    "y_test.to_csv(path_or_buf='data/y_test.csv')"
   ],
   "metadata": {
    "collapsed": false,
    "ExecuteTime": {
     "end_time": "2024-11-27T15:16:17.264119Z",
     "start_time": "2024-11-27T15:16:17.047387Z"
    }
   }
  },
  {
   "cell_type": "code",
   "execution_count": null,
   "outputs": [],
   "source": [],
   "metadata": {
    "collapsed": false
   }
  }
 ],
 "metadata": {
  "kernelspec": {
   "display_name": "Python 3",
   "language": "python",
   "name": "python3"
  },
  "language_info": {
   "codemirror_mode": {
    "name": "ipython",
    "version": 2
   },
   "file_extension": ".py",
   "mimetype": "text/x-python",
   "name": "python",
   "nbconvert_exporter": "python",
   "pygments_lexer": "ipython2",
   "version": "2.7.6"
  }
 },
 "nbformat": 4,
 "nbformat_minor": 0
}
